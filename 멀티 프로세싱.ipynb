{
 "cells": [
  {
   "cell_type": "markdown",
   "id": "7650723f",
   "metadata": {},
   "source": [
    "# 멀티 프로세싱"
   ]
  },
  {
   "cell_type": "markdown",
   "id": "00a48090",
   "metadata": {},
   "source": [
    "# 개요\n",
    "1. Pool 방법\n",
    "2. Process 방법"
   ]
  },
  {
   "cell_type": "markdown",
   "id": "bc65bc8f",
   "metadata": {},
   "source": [
    "## 1. Pool 방법"
   ]
  },
  {
   "cell_type": "code",
   "execution_count": null,
   "id": "3924de24",
   "metadata": {},
   "outputs": [],
   "source": [
    "from multiprocessing import Pool\n",
    "\n",
    "if __name__ == '__main__':\n",
    "    p = Pool(4)  # 사용될 프로세스 수\n",
    "    # do something here with Pool\n",
    "    # blabla\n",
    "    # blablabla\n",
    "    p.close() # or p.terminate()\n",
    "    p.join()"
   ]
  },
  {
   "cell_type": "markdown",
   "id": "b72fac63",
   "metadata": {},
   "source": [
    "### 사용 후 처리 close(), terminate()\n",
    "생성한 Pool을 다 사용하였으면 적절한 위치에 close()과 join()을 호출해주는 것이 좋다. \n",
    "\n",
    "close()는 더 이상 Pool에 추가 작업이 들어가지 않는다는 것을 알려주며, 지금 수행 중인 작업이 모두 끝나면 Pool의 프로세스들을 종료한다. \n",
    "\n",
    "close() 대신terminate()를 사용하면, 현재 진행 중인 작업이 있더라도 즉시 Pool의 프로세스들을 종료한다. \n",
    "\n",
    "join()은 Pool의 모든 프로세스들의 종료가 완료되기를 기다린다."
   ]
  },
  {
   "cell_type": "markdown",
   "id": "5d4f6df6",
   "metadata": {},
   "source": [
    "### with문과의 사용\n",
    "with문과 Pool을 함께 사용할 수 있다. __enter__ 엔 Pool의 생성이, __exit__엔 terminate()가 호출된다."
   ]
  },
  {
   "cell_type": "code",
   "execution_count": 4,
   "id": "7667c896",
   "metadata": {},
   "outputs": [],
   "source": [
    "from multiprocessing import Pool\n",
    "\n",
    "if __name__ == '__main__':\n",
    "    with Pool(4) as p:\n",
    "        # do something here with Pool\n",
    "        # blabla\n",
    "        # blablabla"
   ]
  },
  {
   "cell_type": "markdown",
   "id": "11bb7e2d",
   "metadata": {},
   "source": [
    "### apply()\n",
    "Pool에게 작업 하나를 시킨다. 그리고 작업이 끝날 때까지 기다렸다가 결과를 받는다. 아래는 실행시간이 대략 1초 정도 되는 func을 1~5의 값을 인자로 주어 apply()를 사용하여 총 5번 실행하는 예제이다."
   ]
  },
  {
   "cell_type": "code",
   "execution_count": null,
   "id": "17606cbc",
   "metadata": {},
   "outputs": [],
   "source": [
    "from multiprocessing import Pool\n",
    "import multiprocessing as mp\n",
    "import time\n",
    "import os\n",
    "\n",
    "def func(num):\n",
    "    c_proc = mp.current_process()\n",
    "    print(\"Running on Process\",c_proc.name,\"PID\",c_proc.pid)\n",
    "    time.sleep(1)\n",
    "    print(\"Ended\",num,\"Process\",c_proc.name)\n",
    "    return num\n",
    "        \n",
    "\n",
    "if __name__ == '__main__':\n",
    "    p = Pool(4)\n",
    "    start = time.time()\n",
    "\n",
    "    ret = p.apply(func,(1,))\n",
    "    print(ret)\n",
    "    ret = p.apply(func,(2,))\n",
    "    print(ret)\n",
    "    ret = p.apply(func,(3,))\n",
    "    print(ret)\n",
    "    ret = p.apply(func,(4,))\n",
    "    print(ret)\n",
    "    ret = p.apply(func,(5,))\n",
    "    print(ret)\n",
    "\n",
    "    delta_t = time.time() - start\n",
    "    print(\"Time :\", delta_t)\n",
    "    \n",
    "    p.close()\n",
    "    p.join()"
   ]
  },
  {
   "cell_type": "code",
   "execution_count": null,
   "id": "5f564a97",
   "metadata": {},
   "outputs": [],
   "source": [
    "# 결과\n",
    "Running on Process SpawnPoolWorker-3 PID 18264\n",
    "Ended 1 Process SpawnPoolWorker-3\n",
    "1\n",
    "Running on Process SpawnPoolWorker-1 PID 9620\n",
    "Ended 2 Process SpawnPoolWorker-1\n",
    "2\n",
    "Running on Process SpawnPoolWorker-2 PID 20172\n",
    "Ended 3 Process SpawnPoolWorker-2\n",
    "3\n",
    "Running on Process SpawnPoolWorker-4 PID 11964\n",
    "Ended 4 Process SpawnPoolWorker-4\n",
    "4\n",
    "Running on Process SpawnPoolWorker-3 PID 18264\n",
    "Ended 5 Process SpawnPoolWorker-3\n",
    "5\n",
    "Time : 5.0882182121276855"
   ]
  },
  {
   "cell_type": "markdown",
   "id": "f6e5755d",
   "metadata": {},
   "source": [
    "**apply의 경우 작업 하나를 주고 그 작업이 끝날 때까지 다른 작업을 할 수 없다.**\n",
    "\n",
    "그래서 사실 위 예제의 func()을 Pool을 쓰지 않고 5번 사용한 것과 실행시간의 차이가 거의 없다."
   ]
  },
  {
   "cell_type": "markdown",
   "id": "74e42750",
   "metadata": {},
   "source": [
    "### apply_async()\n",
    "Pool에게 작업 하나를 시키고, AsyncResult를 반환받는다. 반환받은 AsyncResult에서 get()을 호출하면 작업의 반환 값을 얻을 수 있다."
   ]
  },
  {
   "cell_type": "code",
   "execution_count": null,
   "id": "0cc3f507",
   "metadata": {},
   "outputs": [],
   "source": [
    "from multiprocessing import Pool\n",
    "import multiprocessing as mp\n",
    "import time\n",
    "import os\n",
    "\n",
    "def func(num):\n",
    "    c_proc = mp.current_process()\n",
    "    print(\"Running on Process\",c_proc.name,\"PID\",c_proc.pid)\n",
    "    time.sleep(1)\n",
    "    print(\"Ended\",num,\"Process\",c_proc.name)\n",
    "    return num\n",
    "        \n",
    "if __name__ == '__main__':\n",
    "    p = Pool(4)\n",
    "    start = time.time()\n",
    "\n",
    "    ret1 = p.apply_async(func,(1,))\n",
    "    ret2 = p.apply_async(func,(2,))\n",
    "    ret3 = p.apply_async(func,(3,))\n",
    "    ret4 = p.apply_async(func,(4,))\n",
    "    ret5 = p.apply_async(func,(5,))\n",
    "    print(ret1.get(),ret2.get(),ret3.get(),ret4.get(),ret5.get())\n",
    "\n",
    "    delta_t = time.time()-start\n",
    "    print(\"Time :\",delta_t)\n",
    "    \n",
    "    p.close()\n",
    "    p.join()"
   ]
  },
  {
   "cell_type": "code",
   "execution_count": null,
   "id": "ae9c95d6",
   "metadata": {},
   "outputs": [],
   "source": [
    "# 결과\n",
    "Running on Process SpawnPoolWorker-1 PID 11492\n",
    "Running on Process SpawnPoolWorker-2 PID 8736\n",
    "Running on Process SpawnPoolWorker-4 PID 16228\n",
    "Running on Process SpawnPoolWorker-3 PID 14132\n",
    "Ended 2 Process SpawnPoolWorker-2\n",
    "Ended 1 Process SpawnPoolWorker-1\n",
    "Running on Process SpawnPoolWorker-2 PID 8736\n",
    "Ended 4 Process SpawnPoolWorker-3\n",
    "Ended 3 Process SpawnPoolWorker-4\n",
    "Ended 5 Process SpawnPoolWorker-2\n",
    "1 2 3 4 5\n",
    "Time : 2.086998462677002"
   ]
  },
  {
   "cell_type": "markdown",
   "id": "837a71b1",
   "metadata": {},
   "source": [
    "- 가장 중요한 것은 get()을 제일 나중에 호출해야 한다는 것"
   ]
  },
  {
   "cell_type": "markdown",
   "id": "482fb9dc",
   "metadata": {},
   "source": [
    "프로세스 4개를 사용하기로 설정이 되어있다. \n",
    "\n",
    "그래서 처음 4개의 작업을 4개의 프로세스로 동시에 거의 1초 만에 처리하고, 이후 나머지 작업을 처리하는 데에 1초가 소요되어 총 소요시간은 2초가 됨을 볼 수 있다. \n",
    "\n",
    "여기서 중요한 것은 AsyncResult의 get() 호출 시점이다. get()을 호출하여 결과물을 받기 위해선, 그 작업이 끝날 때까지 기다려야 한다. \n",
    "\n",
    "그런데 만약 위에서 p.apply_async(~) 부분을 아래와 같이 작성하였다고 해보자."
   ]
  },
  {
   "cell_type": "code",
   "execution_count": null,
   "id": "e2b60600",
   "metadata": {},
   "outputs": [],
   "source": [
    "    ret1 = p.apply_async(func,(1,)).get()\n",
    "    ret2 = p.apply_async(func,(2,)).get()\n",
    "    ret3 = p.apply_async(func,(3,)).get()\n",
    "    ret4 = p.apply_async(func,(4,)).get()\n",
    "    ret5 = p.apply_async(func,(5,)).get()"
   ]
  },
  {
   "cell_type": "markdown",
   "id": "5b58fccb",
   "metadata": {},
   "source": [
    "이 경우에 두번째 줄은 첫 번째 줄의 작업이 끝나기 전까지 호출되지 않는다. 결국 이 경우도 apply()를 사용한 것과 마찬가지로 멀티프로세싱의 시간적 이점을 누릴 수 없게 된다.\n",
    "\n",
    "apply는 그 작업이 완료되지 않으면 메인 프로세스에서 다음 줄의 코드를 실행하지 않는다. \n",
    "\n",
    "반면 apply_async는 apply_async을 사용한 줄에서 작업이 다 끝나지 않아도 메인 프로세스의 다음 줄을 실행할 수 있다. \n",
    "\n",
    "단, 반환받은 AsyncResult의 get()을 호출한다면 그 작업이 끝나기 전까지는 메인 프로세스에서도 다음 줄로 넘어갈 수가 없다. \n",
    "\n",
    "이 둘의 차이는 map(), map_async()와 starmap(), starmap_async()에서도 마찬가지이다.\n",
    "\n",
    "참고로, **apply()는 apply_async().get()으로 구현되어 있다.**"
   ]
  },
  {
   "cell_type": "markdown",
   "id": "7db534ef",
   "metadata": {},
   "source": [
    "### map() , map_async()\n",
    "iterable에 대해 동일한 함수를 멀티프로세싱을 이용하여 처리하고자 할 때 사용한다. 단, 사용하고자 하는 함수는 단일 인자를 받아야 한다."
   ]
  },
  {
   "cell_type": "code",
   "execution_count": null,
   "id": "58206ed0",
   "metadata": {},
   "outputs": [],
   "source": [
    "from multiprocessing import Pool\n",
    "import multiprocessing as mp\n",
    "import time\n",
    "import os\n",
    "\n",
    "def func(num):\n",
    "    c_proc = mp.current_process()\n",
    "    print(\"Running on Process\", c_proc.name, \"PID\", c_proc.pid)\n",
    "    time.sleep(1)\n",
    "    print(\"Ended\", num, \"Process\", c_proc.name)\n",
    "    return num\n",
    "        \n",
    "\n",
    "if __name__ == '__main__':\n",
    "    p = Pool(4)\n",
    "    start = time.time()\n",
    "    \n",
    "    ret = p.map(func, [1, 2, 3, 4, 5])\n",
    "    print(ret)\n",
    "\n",
    "    delta_t = time.time() - start\n",
    "    print(\"Time :\", delta_t)\n",
    "    \n",
    "    p.close()\n",
    "    p.join()"
   ]
  },
  {
   "cell_type": "code",
   "execution_count": null,
   "id": "d3a87425",
   "metadata": {},
   "outputs": [],
   "source": [
    "# 결과\n",
    "Running on Process SpawnPoolWorker-1 PID 6600\n",
    "Running on Process SpawnPoolWorker-3 PID 20064\n",
    "Running on Process SpawnPoolWorker-4 PID 17432\n",
    "Running on Process SpawnPoolWorker-2 PID 11312\n",
    "Ended 1 Process SpawnPoolWorker-1\n",
    "Ended 3 Process SpawnPoolWorker-4\n",
    "Ended 2 Process SpawnPoolWorker-3\n",
    "Ended 4 Process SpawnPoolWorker-2\n",
    "Running on Process SpawnPoolWorker-1 PID 6600\n",
    "Ended 5 Process SpawnPoolWorker-1\n",
    "[1, 2, 3, 4, 5]\n",
    "Time : 2.0998990535736084"
   ]
  },
  {
   "cell_type": "markdown",
   "id": "d034bd1f",
   "metadata": {},
   "source": [
    "- apply와 map의 차이: apply는 apply함수 하나에 프로세스 하나를 매칭, map은 map함수 하나의 모든 프로세스를 매칭하는 듯"
   ]
  },
  {
   "cell_type": "markdown",
   "id": "5572a9d7",
   "metadata": {},
   "source": [
    "map_async()도 apply_async()와 동일하게 AsyncResult를 반환받는다. \n",
    "\n",
    "map은 작업이 끝나기 이전에 메인 프로세스의 다음 줄의 코드들을 실행할 수 없지만, \n",
    "\n",
    "map_async()는 AsyncResult의 get()을 호출하기 이전까지는 작업이 완전히 끝나지 않아도 메인프로세스의 다음 코드들을 실행할 수 있다."
   ]
  },
  {
   "cell_type": "code",
   "execution_count": null,
   "id": "5c99f4b4",
   "metadata": {},
   "outputs": [],
   "source": [
    "from multiprocessing import Pool\n",
    "import multiprocessing as mp\n",
    "import time\n",
    "import os\n",
    "\n",
    "def func(num):\n",
    "    c_proc = mp.current_process()\n",
    "    print(\"Running on Process\",c_proc.name,\"PID\",c_proc.pid)\n",
    "    time.sleep(1)\n",
    "    print(\"Ended\",num,\"Process\",c_proc.name)\n",
    "    return num\n",
    "        \n",
    "\n",
    "if __name__ == '__main__':\n",
    "    p = Pool(4)\n",
    "    start = time.time()\n",
    "    \n",
    "    ret = p.map_async(func,[1,2,3,4,5])\n",
    "    print(\"is 'ret' ready? :\",ret.ready())\n",
    "    print(ret.get())\n",
    "\n",
    "    delta_t = time.time() - start\n",
    "    print(\"Time :\",delta_t)\n",
    "    \n",
    "    p.close()\n",
    "    p.join()"
   ]
  },
  {
   "cell_type": "code",
   "execution_count": null,
   "id": "4cd2fd4d",
   "metadata": {},
   "outputs": [],
   "source": [
    "# 결과\n",
    "is 'ret' ready? : False\n",
    "Running on Process SpawnPoolWorker-1 PID 13200\n",
    "Running on Process SpawnPoolWorker-2 PID 2276\n",
    "Running on Process SpawnPoolWorker-3 PID 13828\n",
    "Running on Process SpawnPoolWorker-4 PID 7652\n",
    "Ended 3 Process SpawnPoolWorker-3\n",
    "Ended 4 Process SpawnPoolWorker-4\n",
    "Ended 2 Process SpawnPoolWorker-2\n",
    "Ended 1 Process SpawnPoolWorker-1\n",
    "Running on Process SpawnPoolWorker-3 PID 13828\n",
    "Ended 5 Process SpawnPoolWorker-3\n",
    "[1, 2, 3, 4, 5]\n",
    "Time : 2.1028099060058594"
   ]
  },
  {
   "cell_type": "markdown",
   "id": "b9ffc903",
   "metadata": {},
   "source": [
    "### starmap() , starmap_async()\n",
    "인자를 두 개 이상 받을 수 있다는 점을 제외하면 map(), map_async()와 같다."
   ]
  },
  {
   "cell_type": "code",
   "execution_count": null,
   "id": "fa649470",
   "metadata": {},
   "outputs": [],
   "source": [
    "from multiprocessing import Pool\n",
    "import multiprocessing as mp\n",
    "import time\n",
    "import os\n",
    "\n",
    "def mul(x,y):\n",
    "    c_proc = mp.current_process()\n",
    "    print(\"Running on Process\",c_proc.name,\"PID\",c_proc.pid)\n",
    "    time.sleep(1)\n",
    "    print(\"Ended\",x,\"*\",y,\"Process\",c_proc.name)\n",
    "    return x*y\n",
    "        \n",
    "\n",
    "if __name__ == '__main__':\n",
    "    p = Pool(4)\n",
    "    start = time.time()\n",
    "    \n",
    "    ret = p.starmap(mul,[[1,2],[2,3],[3,4],[4,5],[5,6]])\n",
    "    print(ret)\n",
    "\n",
    "    delta_t = time.time() - start\n",
    "    print(\"Time :\",delta_t)\n",
    "    \n",
    "    p.close()\n",
    "    p.join()"
   ]
  },
  {
   "cell_type": "code",
   "execution_count": null,
   "id": "58798ea8",
   "metadata": {},
   "outputs": [],
   "source": [
    "# 결과\n",
    "Running on Process SpawnPoolWorker-2 PID 3460\n",
    "Running on Process SpawnPoolWorker-3 PID 19636\n",
    "Running on Process SpawnPoolWorker-1 PID 8232\n",
    "Running on Process SpawnPoolWorker-4 PID 6876\n",
    "Ended 3 * 4 Process SpawnPoolWorker-1\n",
    "Ended 4 * 5 Process SpawnPoolWorker-4\n",
    "Ended 1 * 2 Process SpawnPoolWorker-2\n",
    "Ended 2 * 3 Process SpawnPoolWorker-3\n",
    "Running on Process SpawnPoolWorker-1 PID 8232\n",
    "Ended 5 * 6 Process SpawnPoolWorker-1\n",
    "[2, 6, 12, 20, 30]\n",
    "Time : 2.096247673034668"
   ]
  },
  {
   "cell_type": "markdown",
   "id": "942b3671",
   "metadata": {},
   "source": [
    "starmap_async는 위의 코드에서 starmap을 starmap_async로 바꾸어주고, map_async에서 처리한 것과 같이 AsyncResult를 받아 원하는 위치에서 get()을 호출해주면 된다. \n",
    "\n",
    "map_async와 많은 부분이 유사하기 때문에 예제 코드는 작성하지 않았다."
   ]
  },
  {
   "cell_type": "markdown",
   "id": "7cc551bc",
   "metadata": {},
   "source": [
    "### imap(), imap_unordered()\n",
    "map의 결과물은 list인 반면, imap의 결과물은 iterator이다. \n",
    "\n",
    "기본 chunkzise는 1인데, 1 대신 적절하게 큰 값을 써주면 훨씬 빨리 처리할 수 있다. \n",
    "\n",
    "결과물의 길이가 길어서 list로 나타내었을 때 메모리에 부담이 가는 경우 imap을 사용해주면 좋다 imap_unordered()는 순서가 보장되지 않는다."
   ]
  },
  {
   "cell_type": "code",
   "execution_count": null,
   "id": "28ce0112",
   "metadata": {},
   "outputs": [],
   "source": [
    "# 결과\n",
    "Running on Process SpawnPoolWorker-1 PID 568 / num 1\n",
    "Running on Process SpawnPoolWorker-3 PID 5548 / num 2\n",
    "Running on Process SpawnPoolWorker-2 PID 3720 / num 3\n",
    "Running on Process SpawnPoolWorker-4 PID 12276 / num 4\n",
    "Ended 3 Process SpawnPoolWorker-2\n",
    "Ended 1 Process SpawnPoolWorker-1\n",
    "Ended 2 Process SpawnPoolWorker-3\n",
    "Ended 4 Process SpawnPoolWorker-4\n",
    "Running on Process SpawnPoolWorker-2 PID 3720 / num 5\n",
    "Got value 1 Time : 1.0782506465911865\n",
    "Got value 2 Time : 1.0782506465911865\n",
    "Got value 3 Time : 1.0782506465911865\n",
    "Got value 4 Time : 1.0782506465911865\n",
    "Ended 5 Process SpawnPoolWorker-2\n",
    "Got value 5 Time : 2.0864195823669434\n",
    "Total Time : 2.08742618560791"
   ]
  },
  {
   "cell_type": "markdown",
   "id": "56c0ca4c",
   "metadata": {},
   "source": [
    "### apply_async, map_async, starmap_async에서 callback\n",
    "위 세 개의 함수에 callback을 달아줄 수 있다. callback의 인자는 위 함수들의 결과물을 받는다. 작업이 완료되는 순간 실행된다."
   ]
  },
  {
   "cell_type": "code",
   "execution_count": null,
   "id": "1449a931",
   "metadata": {},
   "outputs": [],
   "source": [
    "from multiprocessing import Pool\n",
    "import multiprocessing as mp\n",
    "import time\n",
    "import os\n",
    "\n",
    "def callback_func(result):\n",
    "    print(\"callback_func got result :\",result)\n",
    "\n",
    "def square(x):\n",
    "    return x*x\n",
    "\n",
    "if __name__ == '__main__':\n",
    "    with Pool(4) as p:\n",
    "        result = p.map_async(square,range(11),callback=callback_func)\n",
    "        result.wait()"
   ]
  },
  {
   "cell_type": "code",
   "execution_count": null,
   "id": "5a6bb9e1",
   "metadata": {},
   "outputs": [],
   "source": [
    "# 결과\n",
    "callback_func got result : [0, 1, 4, 9, 16, 25, 36, 49, 64, 81, 100]"
   ]
  },
  {
   "cell_type": "code",
   "execution_count": null,
   "id": "b246d18a",
   "metadata": {},
   "outputs": [],
   "source": [
    "# 또 다른 예제 코드\n",
    "\n",
    "import multiprocessing\n",
    "\n",
    "def square(x):\n",
    "    return x*x\n",
    "  \n",
    "if __name__ == '__main__':\n",
    "    # Pool 객체 초기화\n",
    "    pool = multiprocessing.Pool()\n",
    "    #pool = multiporcessing.Pool(processes=4)\n",
    "\n",
    "    # Pool.map\n",
    "    inputs = [0, 1, 2, 3, 4]\n",
    "    outputs = pool.map(square, inputs)\n",
    "\n",
    "    print(outputs)\n",
    "\n",
    "    # Pool.map_async\n",
    "    outputs_async = pool.map_async(square, inputs)\n",
    "    outputs = outputs_async.get()\n",
    "\n",
    "    print(outputs)\n",
    "\n",
    "    # Pool.apply_async\n",
    "    results_async = [pool.apply_async(square, [i]) for i in range(100)]\n",
    "    results = [r.get() for r in results_async]\n",
    "\n",
    "    print(results)\n"
   ]
  },
  {
   "cell_type": "markdown",
   "id": "70c96d2e",
   "metadata": {},
   "source": [
    "## 2. Process 방법"
   ]
  },
  {
   "cell_type": "markdown",
   "id": "c06d1811",
   "metadata": {},
   "source": [
    "- multiprocessing.Process를 상속받은 클래스를 만들어 독립적으로 실행되는 프로세스 생성이 가능\n",
    "\n",
    "- 초기화를 위한 __init__ 메서드를 확장할 수 있음\n",
    "\n",
    "- 코드 중 서브 프로세스로 실행될 부분을 Process.run 메서드로 구현 가능\n",
    "\n",
    "다음 에제 코드는 1초 동안 대기한 다음 할당받은 id를 출력할 Process 클래스를 정의합니다.\n"
   ]
  },
  {
   "cell_type": "code",
   "execution_count": null,
   "id": "2b60c6ea",
   "metadata": {},
   "outputs": [],
   "source": [
    "import multiprocessing\n",
    "import time\n",
    "\n",
    "class Process(multiprocessing.Process):\n",
    "    def __init__(self, id):\n",
    "    super(Process, self).__init__()\n",
    "    self.id = id\n",
    "\n",
    "    def run(self):\n",
    "    time.sleep(1)\n",
    "    print(\"I'm the process with id: {}\".format(self.id))\n",
    "    \n",
    "if __name__ == '__main__':\n",
    "    # p = Process(0)\n",
    "    # p.start()\n",
    "    # p.join()\n",
    "\n",
    "    processes = Process(1), Process(2), Process(3), Process(4)\n",
    "    [p.start() for p in processes]"
   ]
  },
  {
   "cell_type": "code",
   "execution_count": null,
   "id": "c1f4a06c",
   "metadata": {},
   "outputs": [],
   "source": [
    "# 결과\n",
    "I'm the process with id: 1\n",
    "I'm the process with id: 2\n",
    "I'm the process with id: 3\n",
    "I'm the process with id: 4"
   ]
  },
  {
   "cell_type": "markdown",
   "id": "16b0fb97",
   "metadata": {},
   "source": [
    "병렬적으로 네 개의 프로세스가 실행됩니다.\n",
    "\n",
    "순차적으로 진행할 시 4초가 걸리지만 네 개의 프로세스를 병렬 처리하기 때문에 1초 만에 코드 실행이 완료됩니다.\n",
    "\n",
    "join() 메서드를 활용하면 해당 프로세스가 끝날 때까지 대기할 수 있습니다.\n",
    "\n",
    "참고로 운영체제 스케줄링 기법을 배우신 분이라면 알겠지만,\n",
    "\n",
    "병렬 프로세스의 실행 순서는 예측할 수 없으며 그 순서는 OS가 프로세스 실행 스케줄을 어떻게 잡느냐에 달려있습니다."
   ]
  },
  {
   "cell_type": "code",
   "execution_count": null,
   "id": "e34a1968",
   "metadata": {},
   "outputs": [],
   "source": []
  }
 ],
 "metadata": {
  "kernelspec": {
   "display_name": "geoenv",
   "language": "python",
   "name": "geoenv"
  },
  "language_info": {
   "codemirror_mode": {
    "name": "ipython",
    "version": 3
   },
   "file_extension": ".py",
   "mimetype": "text/x-python",
   "name": "python",
   "nbconvert_exporter": "python",
   "pygments_lexer": "ipython3",
   "version": "3.9.6"
  }
 },
 "nbformat": 4,
 "nbformat_minor": 5
}
