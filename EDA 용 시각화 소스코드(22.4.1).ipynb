{
 "cells": [
  {
   "cell_type": "markdown",
   "id": "76e5bd4b",
   "metadata": {},
   "source": [
    "# Setting"
   ]
  },
  {
   "cell_type": "code",
   "execution_count": null,
   "id": "4f5f2aa8",
   "metadata": {},
   "outputs": [],
   "source": [
    "# 1) matplotlib 설정\n",
    "plt.rc(\"font\", family='Malgun Gothic')\n",
    "plt.rc('axes', unicode_minus=False)\n",
    "plt.rc('figure', figsize=(8, 4))\n",
    "plt.rc('figure', dpi=100)\n",
    "\n",
    "# 2) 이렇게 seaborn scheme을 세팅해도 됨\n",
    "plt.style.use('seaborn')\n",
    "sns.set(font_scale=1.5)"
   ]
  },
  {
   "cell_type": "code",
   "execution_count": null,
   "id": "6302966d",
   "metadata": {},
   "outputs": [],
   "source": [
    "sns.set_style('whitegrid') # seaborn 차트에 그리드 추가"
   ]
  },
  {
   "cell_type": "markdown",
   "id": "81a8e72c",
   "metadata": {},
   "source": [
    "# 파레트 - 1)번 방법"
   ]
  },
  {
   "cell_type": "code",
   "execution_count": null,
   "id": "53c62aa0",
   "metadata": {},
   "outputs": [],
   "source": [
    "# 1)번 방법\n",
    "y_position = 1.02\n",
    "f, ax = plt.subplots(몇행, 몇열, figsize=(18, 8), sharex=)  # 그릴 plot에 ax=ax[0] 등으로 전달해야 함\n",
    "\n",
    "-----표현하고자 하는 plot(ax=[몇번째인지 전달])------  # ax를 같게 해서 그래프를 겹칠 수 있음\n",
    "\n",
    "ax[0].set_title('', y=, size=)\n",
    "ax[0].set_ylabel('')\n",
    "ax[0].set_xlabel('')\n",
    "ax[0].set_xlim([ , ])\n",
    "ax[0].set_xticks(np.arange(bin갯수))   # ticks값 자체를 바꾸진 않고 간격만 지정\n",
    "ax[0].set_xticklabels(np.arange( , , ), rotation=90)  # ticks값 자체를 지정해서 바꿔버린다(numpy, dataframe도 가능)\n",
    "ax[0].legend(loc='best')"
   ]
  },
  {
   "cell_type": "markdown",
   "id": "4b6660a7",
   "metadata": {},
   "source": [
    "# plot 종류"
   ]
  },
  {
   "cell_type": "markdown",
   "id": "933a9eab",
   "metadata": {},
   "source": [
    "## 1. Pie plot"
   ]
  },
  {
   "cell_type": "code",
   "execution_count": null,
   "id": "98603b85",
   "metadata": {},
   "outputs": [],
   "source": [
    "데이터['타겟 칼럼'].value_counts().plot.pie(explode=[0, 0.1], autopct='%1.1f%%', ax=ax[몇번째], shadow=True)\n",
    "\n",
    "# explode 는 범주값 개수만큼 지정"
   ]
  },
  {
   "cell_type": "markdown",
   "id": "54db0345",
   "metadata": {},
   "source": [
    "## 2. Count plot"
   ]
  },
  {
   "cell_type": "code",
   "execution_count": null,
   "id": "dcb3a602",
   "metadata": {},
   "outputs": [],
   "source": [
    "sns.countplot('칼럼', hue=, data=데이터, ax=ax[몇번째]) \n",
    "# hue에도 칼럼을 넣으면 그 칼럼의 범주에 따라 bar를 쪼갠다"
   ]
  },
  {
   "cell_type": "markdown",
   "id": "14cb4e19",
   "metadata": {},
   "source": [
    "## 3. bar"
   ]
  },
  {
   "cell_type": "code",
   "execution_count": null,
   "id": "19e6fc71",
   "metadata": {},
   "outputs": [],
   "source": [
    "데이터['변수'].value_counts().plot.bar(color=['#CD7F32', '#FFDF00', '#D3D3D3'], ax=ax[몇번째])\n",
    "\n",
    "# seaborn barplot\n",
    "sns.barplot(x='변수1', y='변수', data=데이터, palette='Set3', orient='v혹은h') # **{'xerr':신뢰구간리스트}로 신뢰구간 전달 가능\n",
    "# x가 카테고리값이고 y값이 이진형이면 0과 1을 모두 세서 비율로 계산, 신뢰구간도 계산\n",
    "# x, y가 1대1로 대응 하는 각각의 배열이면 전달값 그대로 출력"
   ]
  },
  {
   "cell_type": "markdown",
   "id": "3e9eeacd",
   "metadata": {},
   "source": [
    "## 4. kdeplot"
   ]
  },
  {
   "cell_type": "code",
   "execution_count": null,
   "id": "0a50d73d",
   "metadata": {},
   "outputs": [],
   "source": [
    "sns.kdeplot(데이터['변수'], bw=, ax=ax[몇번째])\n",
    "\n",
    "데이터['변수'].plot(kind='kde')"
   ]
  },
  {
   "cell_type": "markdown",
   "id": "ff6368a3",
   "metadata": {},
   "source": [
    "- bw: 커널 크기를 지정할 수 있는 듯"
   ]
  },
  {
   "cell_type": "markdown",
   "id": "e5b4276d",
   "metadata": {},
   "source": [
    "## 5.factorplot"
   ]
  },
  {
   "cell_type": "code",
   "execution_count": null,
   "id": "14f7d771",
   "metadata": {},
   "outputs": [],
   "source": [
    "sns.factorplot('변수1(카테고리)', '변수2(0, 1 이진형)', hue='변수3(카테고리)', data=데이터, size=6, aspect=1.5)\n",
    "# 변수1의 각 범주에서 변수2의 1값의 총합, 그것을 변수3의 각 범주 개수로 나타냄"
   ]
  },
  {
   "cell_type": "markdown",
   "id": "9c012ea6",
   "metadata": {},
   "source": [
    "## 6. distplot(히스토그램)"
   ]
  },
  {
   "cell_type": "code",
   "execution_count": null,
   "id": "698a6656",
   "metadata": {},
   "outputs": [],
   "source": [
    "sns.displot(데이터['변수'], color='b', bins=, label='Skewness : {:.2f}'.format(데이터['변수'].skew()), ax=ax)\n",
    "데이터['변수'].plot.hist(ax=ax[], bins=, edgecolor=, color=)"
   ]
  },
  {
   "cell_type": "markdown",
   "id": "ad085fd7",
   "metadata": {},
   "source": [
    "## 7. heatmap"
   ]
  },
  {
   "cell_type": "code",
   "execution_count": null,
   "id": "600002eb",
   "metadata": {},
   "outputs": [],
   "source": []
  },
  {
   "cell_type": "markdown",
   "id": "810a69c9",
   "metadata": {},
   "source": [
    "# 8. scatter"
   ]
  },
  {
   "cell_type": "code",
   "execution_count": null,
   "id": "124eb08c",
   "metadata": {},
   "outputs": [],
   "source": []
  },
  {
   "cell_type": "markdown",
   "id": "2d5cb6b3",
   "metadata": {},
   "source": [
    "# 9. boxplot"
   ]
  },
  {
   "cell_type": "code",
   "execution_count": null,
   "id": "b4205eee",
   "metadata": {},
   "outputs": [],
   "source": [
    "sns.boxplot(y='변수1(연속형)', x='변수2(카테고리형)', data=데이터)\n",
    "sns.boxplot(y='변수1(연속형)', x='변수2(카테고리형)', hue='변수3(카테고리형)', data=데이터)\n",
    "\n",
    "# hue=변수3(카테고리형) 을 추가하면 변수2를 또다른 변수3로 쪼갤 수 있음, col로도 가능"
   ]
  },
  {
   "cell_type": "markdown",
   "id": "c3ac75d1",
   "metadata": {},
   "source": [
    "- boxplot이나 violinplot보다 kdeplot을 겹치는게 가독성이 좋음"
   ]
  },
  {
   "cell_type": "markdown",
   "id": "a4cf98a0",
   "metadata": {},
   "source": [
    "# 10. violinplot"
   ]
  },
  {
   "cell_type": "code",
   "execution_count": null,
   "id": "6084b2a5",
   "metadata": {},
   "outputs": [],
   "source": [
    "sns.violinplot(x='변수(카테고리형)', y='변수(연속형)', data=데이터, scale='count', split=True) # hue 가능?"
   ]
  },
  {
   "cell_type": "markdown",
   "id": "a9ab46a0",
   "metadata": {},
   "source": [
    "- boxplot이나 violinplot보다 kdeplot을 겹치는게 가독성이 좋음"
   ]
  },
  {
   "cell_type": "markdown",
   "id": "47347da5",
   "metadata": {},
   "source": [
    "# 11.fill_between"
   ]
  },
  {
   "cell_type": "code",
   "execution_count": null,
   "id": "7b0d1fdf",
   "metadata": {},
   "outputs": [],
   "source": [
    "plt.fill_between(x범위, y윗변, y밑변, alpha=0.1, color='r')"
   ]
  },
  {
   "cell_type": "markdown",
   "id": "c2ea1699",
   "metadata": {},
   "source": [
    "# 12. linear regreesion"
   ]
  },
  {
   "cell_type": "code",
   "execution_count": null,
   "id": "eaba8d23",
   "metadata": {},
   "outputs": [],
   "source": [
    "sns.lmplot(x='', y='', data=, hue='타겟(binary)', palette='Set1', scatter_kws={'alpha':0.3})"
   ]
  },
  {
   "cell_type": "markdown",
   "id": "cc8690e5",
   "metadata": {},
   "source": [
    "# 13. stackplot\n",
    "- y1에 y2, 그 위에 y3를 계속해서 쌓아서 표현"
   ]
  },
  {
   "cell_type": "code",
   "execution_count": null,
   "id": "b57135a6",
   "metadata": {},
   "outputs": [],
   "source": [
    "plt.stackplot(x, y1, y2, y3)\n",
    "\n",
    "# 이산형 array에서 면적 구하는 법\n",
    "fy = scipy.interpolate.interp1d(x_values, y_values)\n",
    "blue_area, _ = scipy.integrate.quad(fy, 0, 1, points=x_values)"
   ]
  },
  {
   "cell_type": "markdown",
   "id": "fa28f787",
   "metadata": {},
   "source": [
    "# 14. PairGrid\n",
    "- PairPlot 변형"
   ]
  },
  {
   "cell_type": "code",
   "execution_count": null,
   "id": "0fb31389",
   "metadata": {},
   "outputs": [],
   "source": [
    "# Create the pairgrid object\n",
    "grid = sns.PairGrid(data = 데이터, size = 3, diag_sharey=False,\n",
    "                    hue = '타겟', \n",
    "                    vars = [x for x in list(데이터.columns) if x != '타겟'])\n",
    "\n",
    "# Upper is a scatter plot\n",
    "grid.map_upper(plt.scatter, alpha = 0.2)\n",
    "\n",
    "# Diagonal is a histogram\n",
    "grid.map_diag(sns.kdeplot)\n",
    "\n",
    "# Bottom is density plot\n",
    "grid.map_lower(sns.kdeplot, cmap = plt.cm.OrRd_r);"
   ]
  },
  {
   "cell_type": "markdown",
   "id": "4911195e",
   "metadata": {},
   "source": [
    "# 파레트 - 2)번 방법"
   ]
  },
  {
   "cell_type": "code",
   "execution_count": null,
   "id": "a49d7c6d",
   "metadata": {},
   "outputs": [],
   "source": [
    "plt.figure(figsize=(8, 6))\n",
    "\n",
    "-----표현하고자 하는 plot(ax=[몇번째인지 전달])------\n",
    "\n",
    "plt.title('', y=1.02, size=)\n",
    "plt.xlabel('', fontsize=)\n",
    "plt.ylabel('', fontsize=)\n",
    "plt.xlim()\n",
    "plt.xticks(ticks=실제값배열, rabels=지정할이름배열, rotation=)\n",
    "plt.tick_params(axis=, which=, labelsize=)"
   ]
  },
  {
   "cell_type": "markdown",
   "id": "f6c57e03",
   "metadata": {},
   "source": [
    "## 5. plot"
   ]
  },
  {
   "cell_type": "code",
   "execution_count": null,
   "id": "ac38e2b8",
   "metadata": {},
   "outputs": [],
   "source": [
    "plt.plot(데이터array)"
   ]
  },
  {
   "cell_type": "code",
   "execution_count": null,
   "id": "7054c774",
   "metadata": {},
   "outputs": [],
   "source": []
  },
  {
   "cell_type": "code",
   "execution_count": null,
   "id": "f63b72dc",
   "metadata": {},
   "outputs": [],
   "source": []
  },
  {
   "cell_type": "markdown",
   "id": "d7d76065",
   "metadata": {},
   "source": [
    "# 파레트 - 3)번 방법"
   ]
  },
  {
   "cell_type": "code",
   "execution_count": null,
   "id": "171da357",
   "metadata": {},
   "outputs": [],
   "source": [
    "fig, ax = plt.subplots(1, 1, figsize=(8, 8))\n",
    "\n",
    "g = ----- 표현하고자 하는 plot(ax=[]) -----\n",
    "\n",
    "g.set_xlabel(fontsize=)\n",
    "g.set_ylabel(fontsize=)\n",
    "g.tick_params(labelsize=)\n",
    "g.set_title()\n",
    "g = g.legend(loc='best')"
   ]
  },
  {
   "cell_type": "markdown",
   "id": "01c1de80",
   "metadata": {},
   "source": [
    "# 목적에 따른 분류"
   ]
  },
  {
   "cell_type": "markdown",
   "id": "083cd444",
   "metadata": {},
   "source": [
    "#### 카테고리 값인 축에서 각 범주 순서를 바꿀 때"
   ]
  },
  {
   "cell_type": "code",
   "execution_count": null,
   "id": "a50f7ea6",
   "metadata": {},
   "outputs": [],
   "source": [
    "sort_values(by='변수', ascending=False)"
   ]
  },
  {
   "cell_type": "markdown",
   "id": "a2447e8c",
   "metadata": {},
   "source": [
    "#### 서로 다른 array들을 모아서 한 플롯에 barplot을 그릴 때\n",
    "- 데이터 사이언스 스쿨 12.02 모형결합 - 다수결 방법 에 있음"
   ]
  },
  {
   "cell_type": "code",
   "execution_count": null,
   "id": "b6abc94e",
   "metadata": {},
   "outputs": [],
   "source": []
  },
  {
   "cell_type": "code",
   "execution_count": null,
   "id": "8806906f",
   "metadata": {},
   "outputs": [],
   "source": []
  },
  {
   "cell_type": "code",
   "execution_count": null,
   "id": "04fd31b4",
   "metadata": {},
   "outputs": [],
   "source": []
  },
  {
   "cell_type": "code",
   "execution_count": null,
   "id": "e9b6f5dd",
   "metadata": {},
   "outputs": [],
   "source": []
  },
  {
   "cell_type": "markdown",
   "id": "f62a5a7e",
   "metadata": {},
   "source": [
    "# Plotly"
   ]
  },
  {
   "cell_type": "markdown",
   "id": "afdf6ecb",
   "metadata": {},
   "source": [
    "## 1. bar"
   ]
  },
  {
   "cell_type": "code",
   "execution_count": null,
   "id": "bfe072e4",
   "metadata": {},
   "outputs": [],
   "source": [
    "data = [go.Bar(x = 데이터['변수1'].value_counts().index, # 0, 1\n",
    "               y = 데이터['변수1'].value_counts(),\n",
    "               text='막대이름')]\n",
    "\n",
    "layout = go.Layout(title='차트이름')\n",
    "\n",
    "fig = go.Figure(data=data, layout=layout)\n",
    "\n",
    "py.iplot(fig, filename='basic-bar')"
   ]
  },
  {
   "cell_type": "markdown",
   "id": "e20f9426",
   "metadata": {},
   "source": [
    "- x축은 이진 array [0, 1], y축은 해당 target의 값"
   ]
  },
  {
   "cell_type": "code",
   "execution_count": null,
   "id": "1a7c4927",
   "metadata": {},
   "outputs": [],
   "source": []
  }
 ],
 "metadata": {
  "kernelspec": {
   "display_name": "geoenv",
   "language": "python",
   "name": "geoenv"
  },
  "language_info": {
   "codemirror_mode": {
    "name": "ipython",
    "version": 3
   },
   "file_extension": ".py",
   "mimetype": "text/x-python",
   "name": "python",
   "nbconvert_exporter": "python",
   "pygments_lexer": "ipython3",
   "version": "3.9.6"
  }
 },
 "nbformat": 4,
 "nbformat_minor": 5
}
